{
 "cells": [
  {
   "cell_type": "code",
   "execution_count": 50,
   "metadata": {},
   "outputs": [],
   "source": [
    "import cv2 # pip install opencv-python"
   ]
  },
  {
   "cell_type": "code",
   "execution_count": 51,
   "metadata": {},
   "outputs": [],
   "source": [
    "import matplotlib.pyplot as plt # pip install matplotlib"
   ]
  },
  {
   "cell_type": "markdown",
   "metadata": {},
   "source": [
    "get pretrained config file & frozen model from darknet github repo"
   ]
  },
  {
   "cell_type": "code",
   "execution_count": 52,
   "metadata": {},
   "outputs": [],
   "source": [
    "config_file = 'ssd_mobilenet_v3_large_coco_2020_01_14.pbtxt'\n",
    "frozen_model = 'frozen_inference_graph.pb'"
   ]
  },
  {
   "cell_type": "markdown",
   "metadata": {},
   "source": [
    "Set Model"
   ]
  },
  {
   "cell_type": "code",
   "execution_count": 53,
   "metadata": {},
   "outputs": [],
   "source": [
    "model = cv2.dnn_DetectionModel(frozen_model, config_file)"
   ]
  },
  {
   "cell_type": "markdown",
   "metadata": {},
   "source": [
    "Set Class Labels (coconames)"
   ]
  },
  {
   "cell_type": "code",
   "execution_count": 54,
   "metadata": {},
   "outputs": [],
   "source": [
    "classLabels = [] # empty list of python\n",
    "file_name = 'coconames.txt'\n",
    "with open(file_name, 'rt') as fpt:\n",
    "    classLabels = fpt.read().rstrip('\\n').split('\\n')\n",
    "    #classLabels.append(fpt.read())"
   ]
  },
  {
   "cell_type": "code",
   "execution_count": 55,
   "metadata": {},
   "outputs": [
    {
     "name": "stdout",
     "output_type": "stream",
     "text": [
      "['person', 'bicycle', 'car', 'motorbike', 'aeroplane', 'bus', 'train', 'truck', 'boat', 'traffic light', 'fire hydrant', 'stop sign', 'parking meter', 'bench', 'bird', 'cat', 'dog', 'horse', 'sheep', 'cow', 'elephant', 'bear', 'zebra', 'giraffe', 'backpack', 'umbrella', 'handbag', 'tie', 'suitcase', 'frisbee', 'skis', 'snowboard', 'sports ball', 'kite', 'baseball bat', 'baseball glove', 'skateboard', 'surfboard', 'tennis racket', 'bottle', 'wine glass', 'cup', 'fork', 'knife', 'spoon', 'bowl', 'banana', 'apple', 'sandwich', 'orange', 'broccoli', 'carrot', 'hot dog', 'pizza', 'donut', 'cake', 'chair', 'sofa', 'pottedplant', 'bed', 'diningtable', 'toilet', 'tvmonitor', 'laptop', 'mouse', 'remote', 'keyboard', 'cell phone', 'microwave', 'oven', 'toaster', 'sink', 'refrigerator', 'book', 'clock', 'vase', 'scissors', 'teddy bear', 'hair drier', 'toothbrush']\n"
     ]
    }
   ],
   "source": [
    "print(classLabels)"
   ]
  },
  {
   "cell_type": "code",
   "execution_count": 56,
   "metadata": {},
   "outputs": [
    {
     "name": "stdout",
     "output_type": "stream",
     "text": [
      "80\n"
     ]
    }
   ],
   "source": [
    "print( len(classLabels) )"
   ]
  },
  {
   "cell_type": "code",
   "execution_count": 57,
   "metadata": {},
   "outputs": [
    {
     "data": {
      "text/plain": [
       "< cv2.dnn.Model 000001F133802B30>"
      ]
     },
     "execution_count": 57,
     "metadata": {},
     "output_type": "execute_result"
    }
   ],
   "source": [
    "model.setInputSize(320, 320)\n",
    "model.setInputScale(1.0/127.5) ## 255/2 = 127.5\n",
    "model.setInputMean( (127.5, 127.5, 127.5) ) ## moblilenet => [-1, 1]\n",
    "model.setInputSwapRB(True)\n",
    "# it will perform automatically. We don't need to convert this each time"
   ]
  },
  {
   "cell_type": "markdown",
   "metadata": {},
   "source": [
    "# read an image"
   ]
  },
  {
   "cell_type": "code",
   "execution_count": 58,
   "metadata": {},
   "outputs": [],
   "source": [
    "\n",
    "def objDetect():\n",
    "    img_name = \"img.jpeg\"\n",
    "    img = cv2.imread('uploads/'+img_name)\n",
    "    plt.imshow( cv2.cvtColor(img, cv2.COLOR_BGR2RGB) ) # actual image\n",
    "\n",
    "    try:\n",
    "        # detect objects\n",
    "        ClassIndex, confidece, bbox = model.detect(img, confThreshold=0.60)\n",
    "        # print(ClassIndex)\n",
    "    except Exception:\n",
    "        if (len(ClassInd)<1):\n",
    "            return\n",
    "    \n",
    "    font_scale = 2\n",
    "    font = cv2.FONT_HERSHEY_PLAIN\n",
    "    for ClassInd, conf, boxes in zip(ClassIndex.flatten(), confidece.flatten(), bbox):\n",
    "        # cv2.rectangle( frame, (x,y), (x+w, y+h)), (255, 0, 0), 2)\n",
    "        # cv2.putText( img, text, (text_offset_x, text_offset_y), font, fontSclae=font_scale, color(0,0,0), thickness=1 )\n",
    "        cv2.rectangle(img, boxes, (255, 0, 0), 2) #rectangle color is blue\n",
    "        cv2.putText(img, classLabels[ClassInd-1], (boxes[0]+10, boxes[1]+30), font, fontScale=font_scale, color=(0, 0, 255), thickness=2)\n",
    "    \n",
    "    cv2.imwrite('uploads/img_out.jpeg', img) # save boxed image (original color)\n",
    "    \n",
    "    outputImg = cv2.cvtColor(img, cv2.COLOR_BGR2RGB) # image boxed to cv2.COLOR_BGR2RGB. Otherwise imshow() shows degraded image.\n",
    "    plt.imshow( outputImg ) # see original color\n",
    "    \n",
    "    \n"
   ]
  },
  {
   "cell_type": "code",
   "execution_count": 60,
   "metadata": {},
   "outputs": [
    {
     "name": "stdout",
     "output_type": "stream",
     "text": [
      " * Serving Flask app '__main__'\n",
      " * Debug mode: off\n"
     ]
    },
    {
     "name": "stderr",
     "output_type": "stream",
     "text": [
      "WARNING: This is a development server. Do not use it in a production deployment. Use a production WSGI server instead.\n",
      " * Running on http://127.0.0.1:5000\n",
      "Press CTRL+C to quit\n"
     ]
    }
   ],
   "source": [
    "from flask import Flask, render_template, request, redirect, send_from_directory\n",
    "import os\n",
    "from werkzeug.utils import secure_filename\n",
    "from werkzeug.exceptions import RequestEntityTooLarge\n",
    "\n",
    "app = Flask(__name__, template_folder=\"templates/\")\n",
    "app.config['UPLOAD_DIRECTORY'] = 'uploads/'\n",
    "app.config['MAX_CONTENT_LENGTH'] = 16 * 1024 * 1024  # 16MB\n",
    "app.config['ALLOWED_EXTENSIONS'] = ['.jpg', '.jpeg', '.png', '.gif']\n",
    "\n",
    "\n",
    "@app.route('/')\n",
    "def index():\n",
    "    files = os.listdir(app.config['UPLOAD_DIRECTORY'])\n",
    "    images = []\n",
    "    for filename in files:\n",
    "        extension = os.path.splitext(filename)[1].lower()\n",
    "        if extension in app.config['ALLOWED_EXTENSIONS']:\n",
    "            images.append(filename)\n",
    "    return render_template('index.html', images=images)\n",
    "\n",
    "@app.route('/upload', methods=['POST'])\n",
    "def upload():\n",
    "    try:\n",
    "        file = request.files['file_name']\n",
    "        extension = os.path.splitext(file.filename)[1].lower()\n",
    "\n",
    "        if file and extension in app.config['ALLOWED_EXTENSIONS']:\n",
    "            file.save(os.path.join(\n",
    "                app.config['UPLOAD_DIRECTORY'],\n",
    "                'img.jpeg'\n",
    "            ))\n",
    "            # call object detection function\n",
    "            objDetect()  \n",
    "        else:\n",
    "            return 'File is not an allowed image type.'\n",
    "\n",
    "    except RequestEntityTooLarge:\n",
    "        return 'File is larger than the 16MB limit.'\n",
    "\n",
    "    return redirect('/')\n",
    "\n",
    "@app.route('/serve-image/<filename>', methods=['GET'])\n",
    "def serve_image(filename):\n",
    "    return send_from_directory(app.config['UPLOAD_DIRECTORY'], filename)\n",
    "\n",
    "if __name__ == \"__main__\":\n",
    "    app.run()"
   ]
  }
 ],
 "metadata": {
  "kernelspec": {
   "display_name": "base",
   "language": "python",
   "name": "python3"
  },
  "language_info": {
   "codemirror_mode": {
    "name": "ipython",
    "version": 3
   },
   "file_extension": ".py",
   "mimetype": "text/x-python",
   "name": "python",
   "nbconvert_exporter": "python",
   "pygments_lexer": "ipython3",
   "version": "3.11.5"
  }
 },
 "nbformat": 4,
 "nbformat_minor": 2
}
