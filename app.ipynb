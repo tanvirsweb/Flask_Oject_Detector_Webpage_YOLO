{
 "cells": [
  {
   "cell_type": "code",
   "execution_count": null,
   "metadata": {},
   "outputs": [],
   "source": [
    "from flask import Flask, render_template, request, redirect\n",
    "\n",
    "app = Flask(__name__)\n",
    "\n",
    "@app.route('/')\n",
    "def index():\n",
    "    return render_template('index.html')\n",
    "\n",
    "@app.route('/upload', methods=['POST'])\n",
    "def upload():\n",
    "    file = request.files['file_name'] # from post request: from all files get file 'file_name'\n",
    "    file.save(f'uploads/img.jpg')\n",
    "    return redirect('/')\n",
    "\n",
    "\n",
    "if __name__ == \"__main__\":\n",
    "    app.run()"
   ]
  },
  {
   "cell_type": "code",
   "execution_count": 22,
   "metadata": {},
   "outputs": [
    {
     "name": "stdout",
     "output_type": "stream",
     "text": [
      " * Serving Flask app '__main__'\n",
      " * Debug mode: off\n"
     ]
    },
    {
     "name": "stderr",
     "output_type": "stream",
     "text": [
      "WARNING: This is a development server. Do not use it in a production deployment. Use a production WSGI server instead.\n",
      " * Running on http://127.0.0.1:5000\n",
      "Press CTRL+C to quit\n",
      "127.0.0.1 - - [06/Jan/2024 22:44:18] \"GET / HTTP/1.1\" 200 -\n",
      "127.0.0.1 - - [06/Jan/2024 22:44:18] \"GET /static/bootstrap.min.css HTTP/1.1\" 304 -\n",
      "127.0.0.1 - - [06/Jan/2024 22:44:18] \"GET /serve-image/img_out.jpeg HTTP/1.1\" 304 -\n",
      "127.0.0.1 - - [06/Jan/2024 22:44:18] \"GET /serve-image/img.jpeg HTTP/1.1\" 304 -\n",
      "127.0.0.1 - - [06/Jan/2024 22:44:18] \"GET /serve-image/Routine.png HTTP/1.1\" 304 -\n",
      "127.0.0.1 - - [06/Jan/2024 22:44:19] \"GET /favicon.ico HTTP/1.1\" 404 -\n"
     ]
    }
   ],
   "source": [
    "from flask import Flask, render_template, request, redirect, send_from_directory\n",
    "import os\n",
    "from werkzeug.utils import secure_filename\n",
    "from werkzeug.exceptions import RequestEntityTooLarge\n",
    "\n",
    "app = Flask(__name__, template_folder=\"templates/\")\n",
    "app.config['UPLOAD_DIRECTORY'] = 'uploads/'\n",
    "app.config['MAX_CONTENT_LENGTH'] = 16 * 1024 * 1024  # 16MB\n",
    "app.config['ALLOWED_EXTENSIONS'] = ['.jpg', '.jpeg', '.png', '.gif']\n",
    "\n",
    "@app.route('/')\n",
    "def index():\n",
    "    files = os.listdir(app.config['UPLOAD_DIRECTORY'])\n",
    "    images = []\n",
    "    for filename in files:\n",
    "        extension = os.path.splitext(filename)[1].lower()\n",
    "        if extension in app.config['ALLOWED_EXTENSIONS']:\n",
    "            images.append(filename)\n",
    "\n",
    "    return render_template('index.html', images=images)\n",
    "\n",
    "@app.route('/upload', methods=['POST'])\n",
    "def upload():\n",
    "    try:\n",
    "        file = request.files['file_name']\n",
    "        extension = os.path.splitext(file.filename)[1].lower()\n",
    "\n",
    "        if file and extension in app.config['ALLOWED_EXTENSIONS']:\n",
    "            file.save(os.path.join(\n",
    "                app.config['UPLOAD_DIRECTORY'],\n",
    "                secure_filename(file.filename)\n",
    "            ))\n",
    "        else:\n",
    "            return 'File is not an allowed image type.'\n",
    "\n",
    "    except RequestEntityTooLarge:\n",
    "        return 'File is larger than the 16MB limit.'\n",
    "\n",
    "    return redirect('/')\n",
    "\n",
    "@app.route('/serve-image/<filename>', methods=['GET'])\n",
    "def serve_image(filename):\n",
    "    return send_from_directory(app.config['UPLOAD_DIRECTORY'], filename)\n",
    "\n",
    "if __name__ == \"__main__\":\n",
    "    app.run()\n"
   ]
  }
 ],
 "metadata": {
  "kernelspec": {
   "display_name": "base",
   "language": "python",
   "name": "python3"
  },
  "language_info": {
   "codemirror_mode": {
    "name": "ipython",
    "version": 3
   },
   "file_extension": ".py",
   "mimetype": "text/x-python",
   "name": "python",
   "nbconvert_exporter": "python",
   "pygments_lexer": "ipython3",
   "version": "3.11.5"
  }
 },
 "nbformat": 4,
 "nbformat_minor": 2
}
